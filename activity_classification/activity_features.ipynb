{
 "cells": [
  {
   "cell_type": "code",
   "execution_count": null,
   "metadata": {},
   "outputs": [],
   "source": [
    "from happyalgos.utils.filtering import window_ranger\n",
    "from happyalgos.activity.activity_counter import ActivityCounter\n",
    "from sklearn.preprocessing import minmax_scale\n",
    "import numpy as np\n",
    "import pandas as pd\n",
    "import scipy"
   ]
  },
  {
   "cell_type": "markdown",
   "metadata": {},
   "source": [
    "General specs/loading data/windowing"
   ]
  },
  {
   "cell_type": "code",
   "execution_count": null,
   "metadata": {},
   "outputs": [],
   "source": [
    "acc_df = pd.read_parquet(\"test_acc.parquet\")\n",
    "WINDOW, STRIDE = 60.0, 20.0\n",
    "window_ranges = window_ranger(\n",
    "    acc_df.iloc[0].etime,\n",
    "    acc_df.iloc[-1].etime,\n",
    "    STRIDE,\n",
    "    WINDOW,\n",
    "    )\n",
    "\n",
    "act_obj = ActivityCounter( window = WINDOW, stride = STRIDE )"
   ]
  },
  {
   "cell_type": "code",
   "execution_count": null,
   "metadata": {},
   "outputs": [],
   "source": []
  },
  {
   "cell_type": "code",
   "execution_count": null,
   "metadata": {},
   "outputs": [],
   "source": [
    "for i, window in enumerate(window_ranges):\n",
    "    acc_slice = acc_df[acc_df.etime.between( window[0], window[1] )]\n",
    "    mag = np.sqrt( acc_slice.x.values ** 2 + acc_slice.y.values ** 2 + acc_slice.z.values ** 2 )\n",
    "    \n",
    "    f, pxx = scipy.signal.welch(\n",
    "            mag,\n",
    "            fs = 26,\n",
    "            window = \"hamming\",\n",
    "            nperseg = 256,\n",
    "            noverlap = None,\n",
    "            nfft = None,\n",
    "            scaling = \"density\",\n",
    "            detrend = \"constant\",\n",
    "            average = \"mean\",\n",
    "        )\n",
    "    \n",
    "    pxx_scaled = minmax_scale( pxx )\n",
    "    \n",
    "    sos = scipy.signal.butter(4, 0.7, fs = 26.0, output = \"sos\", btype = \"highpass\")\n",
    "    x_hpf = scipy.signal.sosfilt(sos, acc_slice.x.values)\n",
    "    y_hpf = scipy.signal.sosfilt(sos, acc_slice.y.values)\n",
    "    z_hpf = scipy.signal.sosfilt(sos, acc_slice.z.values)\n",
    "    mag_filt = np.sqrt(x_hpf ** 2 + y_hpf ** 2 + z_hpf ** 2)\n",
    "    \n",
    "    ratio = mag / mag_filt\n",
    "    counts = act_obj.get_count( acc_slice.x.values, acc_slice.y.values, acc_slice.z.values, acc_slice.etime.values )\n",
    "\n",
    "    # ratio features\n",
    "    ratio_features = {\n",
    "                    \"ratio_mean\": np.mean(ratio),\n",
    "                    \"ratio_std\": np.std(ratio),\n",
    "                    \"ratio_median\": np.median(ratio),\n",
    "                    \"ratio_skew\": scipy.stats.skew(ratio),\n",
    "                    \"ratio_kurtosis\": scipy.stats.kurtosis(ratio),\n",
    "                    \"ratio_cvar\": np.var(ratio) / np.mean(ratio)\n",
    "                    }\n",
    "\n",
    "    # time domain features\n",
    "    time_features = {\n",
    "                    \"counts\"            : counts,\n",
    "                    \"mean_time\"         : np.nanmean(mag),\n",
    "                    \"std_time\"          : np.nanstd(mag),\n",
    "                    \"cvar_time\"         : np.nanvar(mag) / np.nanmean(mag),\n",
    "                    \"median_time\"       : np.nanmedian(mag),\n",
    "                    \"skewness_time\"     : scipy.stats.skew(mag),\n",
    "                    \"kurtosis_time\"     : scipy.stats.kurtosis(mag),\n",
    "                    }\n",
    "\n",
    "\n",
    "    freq_res = f[1] - f[0] \n",
    "\n",
    "    auc_0_3 = np.trapz( pxx[np.logical_and( f >= 0.0, f <= 3.0 )], dx = freq_res)\n",
    "\n",
    "    high_range_auc = np.trapz( pxx[np.logical_and( f >= 7.0, f <= 13.0 )], dx = freq_res )\n",
    "    low_range_auc = np.trapz( pxx[np.logical_and( f >= 0.0, f <= 5.0 )], dx = freq_res )\n",
    "    hi_lo_unscaled = high_range_auc / low_range_auc\n",
    "\n",
    "    high_range_auc = np.trapz( pxx_scaled[np.logical_and( f >= 7.0, f <= 13.0 )], dx = freq_res )\n",
    "    low_range_auc = np.trapz( pxx_scaled[np.logical_and( f >= 0.0, f <= 5.0 )], dx = freq_res )\n",
    "    hi_lo_scaled = high_range_auc / low_range_auc\n",
    "    \n",
    "    # freq domain feature\n",
    "    freq_features = {\n",
    "                    \"max_pxx\"           : np.nanmax(pxx),\n",
    "                    \"log_max_pxx\"       : np.log( np.nanmax(pxx) ),\n",
    "                    \"skewness_freq\"     : scipy.stats.skew( pxx ),\n",
    "                    \"kurotis_freq\"      : scipy.stats.kurtosis( pxx ),\n",
    "                    \"mean_freq\"         : np.mean( pxx ),\n",
    "                    \"std_freq\"          : np.std( pxx ),\n",
    "                    \"cvar_freq\"         : np.var(pxx) / np.mean(pxx),\n",
    "                    \"median_freq\"       : np.median(pxx),\n",
    "                    \"hi_lo_scaled\"      : hi_lo_scaled,\n",
    "                    \"hi_lo_unscaled\"    : hi_lo_unscaled,\n",
    "                    \"auc_0_3\"           : auc_0_3\n",
    "                    }\n",
    "    \n",
    "    \n"
   ]
  }
 ],
 "metadata": {
  "kernelspec": {
   "display_name": "Python 3.9.5 64-bit",
   "language": "python",
   "name": "python3"
  },
  "language_info": {
   "name": "python",
   "version": "3.9.5"
  },
  "orig_nbformat": 4,
  "vscode": {
   "interpreter": {
    "hash": "aee8b7b246df8f9039afb4144a1f6fd8d2ca17a180786b69acc140d282b71a49"
   }
  }
 },
 "nbformat": 4,
 "nbformat_minor": 2
}
